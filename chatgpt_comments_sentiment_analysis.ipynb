{
  "cells": [
    {
      "cell_type": "code",
      "execution_count": null,
      "metadata": {
        "id": "BfmhplaZHjQj"
      },
      "outputs": [],
      "source": [
        "import pandas as pd\n",
        "\n",
        "df = pd.read_csv('chatgpt.csv')"
      ]
    },
    {
      "cell_type": "code",
      "execution_count": null,
      "metadata": {
        "colab": {
          "base_uri": "https://localhost:8080/",
          "height": 206
        },
        "id": "FATddku9Hpqp",
        "outputId": "ddd794c4-d290-4b88-eb2b-bae38586e109"
      },
      "outputs": [
        {
          "data": {
            "text/html": [
              "\n",
              "  <div id=\"df-e7b41038-c07f-403d-aa6b-721740216a70\">\n",
              "    <div class=\"colab-df-container\">\n",
              "      <div>\n",
              "<style scoped>\n",
              "    .dataframe tbody tr th:only-of-type {\n",
              "        vertical-align: middle;\n",
              "    }\n",
              "\n",
              "    .dataframe tbody tr th {\n",
              "        vertical-align: top;\n",
              "    }\n",
              "\n",
              "    .dataframe thead th {\n",
              "        text-align: right;\n",
              "    }\n",
              "</style>\n",
              "<table border=\"1\" class=\"dataframe\">\n",
              "  <thead>\n",
              "    <tr style=\"text-align: right;\">\n",
              "      <th></th>\n",
              "      <th>Unnamed: 0</th>\n",
              "      <th>tweets</th>\n",
              "      <th>labels</th>\n",
              "    </tr>\n",
              "  </thead>\n",
              "  <tbody>\n",
              "    <tr>\n",
              "      <th>0</th>\n",
              "      <td>0</td>\n",
              "      <td>ChatGPT: Optimizing Language Models for Dialog...</td>\n",
              "      <td>neutral</td>\n",
              "    </tr>\n",
              "    <tr>\n",
              "      <th>1</th>\n",
              "      <td>1</td>\n",
              "      <td>Try talking with ChatGPT, our new AI system wh...</td>\n",
              "      <td>good</td>\n",
              "    </tr>\n",
              "    <tr>\n",
              "      <th>2</th>\n",
              "      <td>2</td>\n",
              "      <td>ChatGPT: Optimizing Language Models for Dialog...</td>\n",
              "      <td>neutral</td>\n",
              "    </tr>\n",
              "    <tr>\n",
              "      <th>3</th>\n",
              "      <td>3</td>\n",
              "      <td>THRILLED to share that ChatGPT, our new model ...</td>\n",
              "      <td>good</td>\n",
              "    </tr>\n",
              "    <tr>\n",
              "      <th>4</th>\n",
              "      <td>4</td>\n",
              "      <td>As of 2 minutes ago, @OpenAI released their ne...</td>\n",
              "      <td>bad</td>\n",
              "    </tr>\n",
              "  </tbody>\n",
              "</table>\n",
              "</div>\n",
              "      <button class=\"colab-df-convert\" onclick=\"convertToInteractive('df-e7b41038-c07f-403d-aa6b-721740216a70')\"\n",
              "              title=\"Convert this dataframe to an interactive table.\"\n",
              "              style=\"display:none;\">\n",
              "        \n",
              "  <svg xmlns=\"http://www.w3.org/2000/svg\" height=\"24px\"viewBox=\"0 0 24 24\"\n",
              "       width=\"24px\">\n",
              "    <path d=\"M0 0h24v24H0V0z\" fill=\"none\"/>\n",
              "    <path d=\"M18.56 5.44l.94 2.06.94-2.06 2.06-.94-2.06-.94-.94-2.06-.94 2.06-2.06.94zm-11 1L8.5 8.5l.94-2.06 2.06-.94-2.06-.94L8.5 2.5l-.94 2.06-2.06.94zm10 10l.94 2.06.94-2.06 2.06-.94-2.06-.94-.94-2.06-.94 2.06-2.06.94z\"/><path d=\"M17.41 7.96l-1.37-1.37c-.4-.4-.92-.59-1.43-.59-.52 0-1.04.2-1.43.59L10.3 9.45l-7.72 7.72c-.78.78-.78 2.05 0 2.83L4 21.41c.39.39.9.59 1.41.59.51 0 1.02-.2 1.41-.59l7.78-7.78 2.81-2.81c.8-.78.8-2.07 0-2.86zM5.41 20L4 18.59l7.72-7.72 1.47 1.35L5.41 20z\"/>\n",
              "  </svg>\n",
              "      </button>\n",
              "      \n",
              "  <style>\n",
              "    .colab-df-container {\n",
              "      display:flex;\n",
              "      flex-wrap:wrap;\n",
              "      gap: 12px;\n",
              "    }\n",
              "\n",
              "    .colab-df-convert {\n",
              "      background-color: #E8F0FE;\n",
              "      border: none;\n",
              "      border-radius: 50%;\n",
              "      cursor: pointer;\n",
              "      display: none;\n",
              "      fill: #1967D2;\n",
              "      height: 32px;\n",
              "      padding: 0 0 0 0;\n",
              "      width: 32px;\n",
              "    }\n",
              "\n",
              "    .colab-df-convert:hover {\n",
              "      background-color: #E2EBFA;\n",
              "      box-shadow: 0px 1px 2px rgba(60, 64, 67, 0.3), 0px 1px 3px 1px rgba(60, 64, 67, 0.15);\n",
              "      fill: #174EA6;\n",
              "    }\n",
              "\n",
              "    [theme=dark] .colab-df-convert {\n",
              "      background-color: #3B4455;\n",
              "      fill: #D2E3FC;\n",
              "    }\n",
              "\n",
              "    [theme=dark] .colab-df-convert:hover {\n",
              "      background-color: #434B5C;\n",
              "      box-shadow: 0px 1px 3px 1px rgba(0, 0, 0, 0.15);\n",
              "      filter: drop-shadow(0px 1px 2px rgba(0, 0, 0, 0.3));\n",
              "      fill: #FFFFFF;\n",
              "    }\n",
              "  </style>\n",
              "\n",
              "      <script>\n",
              "        const buttonEl =\n",
              "          document.querySelector('#df-e7b41038-c07f-403d-aa6b-721740216a70 button.colab-df-convert');\n",
              "        buttonEl.style.display =\n",
              "          google.colab.kernel.accessAllowed ? 'block' : 'none';\n",
              "\n",
              "        async function convertToInteractive(key) {\n",
              "          const element = document.querySelector('#df-e7b41038-c07f-403d-aa6b-721740216a70');\n",
              "          const dataTable =\n",
              "            await google.colab.kernel.invokeFunction('convertToInteractive',\n",
              "                                                     [key], {});\n",
              "          if (!dataTable) return;\n",
              "\n",
              "          const docLinkHtml = 'Like what you see? Visit the ' +\n",
              "            '<a target=\"_blank\" href=https://colab.research.google.com/notebooks/data_table.ipynb>data table notebook</a>'\n",
              "            + ' to learn more about interactive tables.';\n",
              "          element.innerHTML = '';\n",
              "          dataTable['output_type'] = 'display_data';\n",
              "          await google.colab.output.renderOutput(dataTable, element);\n",
              "          const docLink = document.createElement('div');\n",
              "          docLink.innerHTML = docLinkHtml;\n",
              "          element.appendChild(docLink);\n",
              "        }\n",
              "      </script>\n",
              "    </div>\n",
              "  </div>\n",
              "  "
            ],
            "text/plain": [
              "   Unnamed: 0                                             tweets   labels\n",
              "0           0  ChatGPT: Optimizing Language Models for Dialog...  neutral\n",
              "1           1  Try talking with ChatGPT, our new AI system wh...     good\n",
              "2           2  ChatGPT: Optimizing Language Models for Dialog...  neutral\n",
              "3           3  THRILLED to share that ChatGPT, our new model ...     good\n",
              "4           4  As of 2 minutes ago, @OpenAI released their ne...      bad"
            ]
          },
          "execution_count": 4,
          "metadata": {},
          "output_type": "execute_result"
        }
      ],
      "source": [
        "df.head()"
      ]
    },
    {
      "cell_type": "code",
      "execution_count": null,
      "metadata": {
        "colab": {
          "base_uri": "https://localhost:8080/",
          "height": 448
        },
        "id": "ApYrdSobZZu4",
        "outputId": "c0b71a3d-2c5a-4c0e-da20-d82ead3f4d6e"
      },
      "outputs": [
        {
          "data": {
            "text/plain": [
              "<function matplotlib.pyplot.show(close=None, block=None)>"
            ]
          },
          "execution_count": 4,
          "metadata": {},
          "output_type": "execute_result"
        },
        {
          "data": {
            "image/png": "[encoded data removed]",
            "text/plain": [
              "<Figure size 640x480 with 1 Axes>"
            ]
          },
          "metadata": {},
          "output_type": "display_data"
        }
      ],
      "source": [
        "import matplotlib.pyplot as plt\n",
        "plt.hist(df['labels'], color = 'gray')\n",
        "plt.show"
      ]
    },
    {
      "cell_type": "code",
      "execution_count": null,
      "metadata": {
        "colab": {
          "base_uri": "https://localhost:8080/"
        },
        "id": "PFidaOA9Bi5c",
        "outputId": "9a856964-2722-4e6f-8cd1-724a827a5be2"
      },
      "outputs": [
        {
          "data": {
            "text/plain": [
              "(219294, 3)"
            ]
          },
          "execution_count": 2,
          "metadata": {},
          "output_type": "execute_result"
        }
      ],
      "source": [
        "df.shape"
      ]
    },
    {
      "cell_type": "markdown",
      "source": [
        "PREPROCESSING"
      ],
      "metadata": {
        "id": "fSOOVj6IGv3v"
      }
    },
    {
      "cell_type": "code",
      "execution_count": null,
      "metadata": {
        "colab": {
          "base_uri": "https://localhost:8080/"
        },
        "id": "m3qLeh2nHseR",
        "outputId": "4cc59390-4f43-402a-a802-54196991f46e"
      },
      "outputs": [
        {
          "output_type": "stream",
          "name": "stderr",
          "text": [
            "[nltk_data] Downloading package wordnet to /root/nltk_data...\n",
            "[nltk_data] Downloading package stopwords to /root/nltk_data...\n",
            "[nltk_data]   Unzipping corpora/stopwords.zip.\n",
            "[nltk_data] Downloading package punkt to /root/nltk_data...\n",
            "[nltk_data]   Unzipping tokenizers/punkt.zip.\n"
          ]
        }
      ],
      "source": [
        "import pandas as pd\n",
        "import re\n",
        "import numpy as np\n",
        "import nltk\n",
        "from nltk.corpus import stopwords\n",
        "from nltk.stem import WordNetLemmatizer\n",
        "from nltk.stem import PorterStemmer\n",
        "from nltk.tokenize import word_tokenize\n",
        "\n",
        "my_stemmer = PorterStemmer()\n",
        "nltk.download('wordnet')\n",
        "nltk.download('stopwords')\n",
        "num_reviews = df['tweets'].size\n",
        "nltk.download('punkt')\n",
        "\n",
        "def preprocessor(raw_review):\n",
        "    clean1 = re.sub(r'http\\S+', ' ', raw_review)\n",
        "    clean2 = re.sub(r'www\\S+', ' ', clean1)\n",
        "    clean3 = re.sub(r'@\\w+', ' ', clean2)\n",
        "    clean4 = re.sub(r'#\\w+', ' ', clean3)\n",
        "    letters_only = re.sub(\"[^a-zA-Z]\", \" \", clean4)\n",
        "    words = word_tokenize(letters_only.lower())\n",
        "    stops = set(stopwords.words(\"english\"))\n",
        "    meaningful_words = [w for w in words if not w in stops]\n",
        "    lemmatizer = WordNetLemmatizer()\n",
        "    lemmatized_words = [lemmatizer.lemmatize(word) for word in meaningful_words]\n",
        "    # return \" \".join(lemmatized_words)\n",
        "    return lemmatized_words\n",
        "\n",
        "\n",
        "df['tokenized'] = df['tweets'].apply(preprocessor)"
      ]
    },
    {
      "cell_type": "code",
      "execution_count": null,
      "metadata": {
        "colab": {
          "base_uri": "https://localhost:8080/",
          "height": 354
        },
        "id": "BUJk8wPhkvIZ",
        "outputId": "e20ddbac-a314-4fe3-d547-7c7f1a576dc0"
      },
      "outputs": [
        {
          "data": {
            "text/html": [
              "\n",
              "  <div id=\"df-398dc599-dc70-43ed-a230-6b5748609497\">\n",
              "    <div class=\"colab-df-container\">\n",
              "      <div>\n",
              "<style scoped>\n",
              "    .dataframe tbody tr th:only-of-type {\n",
              "        vertical-align: middle;\n",
              "    }\n",
              "\n",
              "    .dataframe tbody tr th {\n",
              "        vertical-align: top;\n",
              "    }\n",
              "\n",
              "    .dataframe thead th {\n",
              "        text-align: right;\n",
              "    }\n",
              "</style>\n",
              "<table border=\"1\" class=\"dataframe\">\n",
              "  <thead>\n",
              "    <tr style=\"text-align: right;\">\n",
              "      <th></th>\n",
              "      <th>Unnamed: 0</th>\n",
              "      <th>tweets</th>\n",
              "      <th>labels</th>\n",
              "      <th>tokenized</th>\n",
              "    </tr>\n",
              "  </thead>\n",
              "  <tbody>\n",
              "    <tr>\n",
              "      <th>0</th>\n",
              "      <td>0</td>\n",
              "      <td>ChatGPT: Optimizing Language Models for Dialog...</td>\n",
              "      <td>neutral</td>\n",
              "      <td>[chatgpt, optimizing, language, model, dialogue]</td>\n",
              "    </tr>\n",
              "    <tr>\n",
              "      <th>1</th>\n",
              "      <td>1</td>\n",
              "      <td>Try talking with ChatGPT, our new AI system wh...</td>\n",
              "      <td>good</td>\n",
              "      <td>[try, talking, chatgpt, new, ai, system, optim...</td>\n",
              "    </tr>\n",
              "    <tr>\n",
              "      <th>2</th>\n",
              "      <td>2</td>\n",
              "      <td>ChatGPT: Optimizing Language Models for Dialog...</td>\n",
              "      <td>neutral</td>\n",
              "      <td>[chatgpt, optimizing, language, model, dialogu...</td>\n",
              "    </tr>\n",
              "    <tr>\n",
              "      <th>3</th>\n",
              "      <td>3</td>\n",
              "      <td>THRILLED to share that ChatGPT, our new model ...</td>\n",
              "      <td>good</td>\n",
              "      <td>[thrilled, share, chatgpt, new, model, optimiz...</td>\n",
              "    </tr>\n",
              "    <tr>\n",
              "      <th>4</th>\n",
              "      <td>4</td>\n",
              "      <td>As of 2 minutes ago, @OpenAI released their ne...</td>\n",
              "      <td>bad</td>\n",
              "      <td>[minute, ago, released, new, chatgpt, n, nand,...</td>\n",
              "    </tr>\n",
              "  </tbody>\n",
              "</table>\n",
              "</div>\n",
              "      <button class=\"colab-df-convert\" onclick=\"convertToInteractive('df-398dc599-dc70-43ed-a230-6b5748609497')\"\n",
              "              title=\"Convert this dataframe to an interactive table.\"\n",
              "              style=\"display:none;\">\n",
              "        \n",
              "  <svg xmlns=\"http://www.w3.org/2000/svg\" height=\"24px\"viewBox=\"0 0 24 24\"\n",
              "       width=\"24px\">\n",
              "    <path d=\"M0 0h24v24H0V0z\" fill=\"none\"/>\n",
              "    <path d=\"M18.56 5.44l.94 2.06.94-2.06 2.06-.94-2.06-.94-.94-2.06-.94 2.06-2.06.94zm-11 1L8.5 8.5l.94-2.06 2.06-.94-2.06-.94L8.5 2.5l-.94 2.06-2.06.94zm10 10l.94 2.06.94-2.06 2.06-.94-2.06-.94-.94-2.06-.94 2.06-2.06.94z\"/><path d=\"M17.41 7.96l-1.37-1.37c-.4-.4-.92-.59-1.43-.59-.52 0-1.04.2-1.43.59L10.3 9.45l-7.72 7.72c-.78.78-.78 2.05 0 2.83L4 21.41c.39.39.9.59 1.41.59.51 0 1.02-.2 1.41-.59l7.78-7.78 2.81-2.81c.8-.78.8-2.07 0-2.86zM5.41 20L4 18.59l7.72-7.72 1.47 1.35L5.41 20z\"/>\n",
              "  </svg>\n",
              "      </button>\n",
              "      \n",
              "  <style>\n",
              "    .colab-df-container {\n",
              "      display:flex;\n",
              "      flex-wrap:wrap;\n",
              "      gap: 12px;\n",
              "    }\n",
              "\n",
              "    .colab-df-convert {\n",
              "      background-color: #E8F0FE;\n",
              "      border: none;\n",
              "      border-radius: 50%;\n",
              "      cursor: pointer;\n",
              "      display: none;\n",
              "      fill: #1967D2;\n",
              "      height: 32px;\n",
              "      padding: 0 0 0 0;\n",
              "      width: 32px;\n",
              "    }\n",
              "\n",
              "    .colab-df-convert:hover {\n",
              "      background-color: #E2EBFA;\n",
              "      box-shadow: 0px 1px 2px rgba(60, 64, 67, 0.3), 0px 1px 3px 1px rgba(60, 64, 67, 0.15);\n",
              "      fill: #174EA6;\n",
              "    }\n",
              "\n",
              "    [theme=dark] .colab-df-convert {\n",
              "      background-color: #3B4455;\n",
              "      fill: #D2E3FC;\n",
              "    }\n",
              "\n",
              "    [theme=dark] .colab-df-convert:hover {\n",
              "      background-color: #434B5C;\n",
              "      box-shadow: 0px 1px 3px 1px rgba(0, 0, 0, 0.15);\n",
              "      filter: drop-shadow(0px 1px 2px rgba(0, 0, 0, 0.3));\n",
              "      fill: #FFFFFF;\n",
              "    }\n",
              "  </style>\n",
              "\n",
              "      <script>\n",
              "        const buttonEl =\n",
              "          document.querySelector('#df-398dc599-dc70-43ed-a230-6b5748609497 button.colab-df-convert');\n",
              "        buttonEl.style.display =\n",
              "          google.colab.kernel.accessAllowed ? 'block' : 'none';\n",
              "\n",
              "        async function convertToInteractive(key) {\n",
              "          const element = document.querySelector('#df-398dc599-dc70-43ed-a230-6b5748609497');\n",
              "          const dataTable =\n",
              "            await google.colab.kernel.invokeFunction('convertToInteractive',\n",
              "                                                     [key], {});\n",
              "          if (!dataTable) return;\n",
              "\n",
              "          const docLinkHtml = 'Like what you see? Visit the ' +\n",
              "            '<a target=\"_blank\" href=https://colab.research.google.com/notebooks/data_table.ipynb>data table notebook</a>'\n",
              "            + ' to learn more about interactive tables.';\n",
              "          element.innerHTML = '';\n",
              "          dataTable['output_type'] = 'display_data';\n",
              "          await google.colab.output.renderOutput(dataTable, element);\n",
              "          const docLink = document.createElement('div');\n",
              "          docLink.innerHTML = docLinkHtml;\n",
              "          element.appendChild(docLink);\n",
              "        }\n",
              "      </script>\n",
              "    </div>\n",
              "  </div>\n",
              "  "
            ],
            "text/plain": [
              "   Unnamed: 0                                             tweets   labels  \\\n",
              "0           0  ChatGPT: Optimizing Language Models for Dialog...  neutral   \n",
              "1           1  Try talking with ChatGPT, our new AI system wh...     good   \n",
              "2           2  ChatGPT: Optimizing Language Models for Dialog...  neutral   \n",
              "3           3  THRILLED to share that ChatGPT, our new model ...     good   \n",
              "4           4  As of 2 minutes ago, @OpenAI released their ne...      bad   \n",
              "\n",
              "                                           tokenized  \n",
              "0   [chatgpt, optimizing, language, model, dialogue]  \n",
              "1  [try, talking, chatgpt, new, ai, system, optim...  \n",
              "2  [chatgpt, optimizing, language, model, dialogu...  \n",
              "3  [thrilled, share, chatgpt, new, model, optimiz...  \n",
              "4  [minute, ago, released, new, chatgpt, n, nand,...  "
            ]
          },
          "execution_count": 81,
          "metadata": {},
          "output_type": "execute_result"
        }
      ],
      "source": [
        "df.head()"
      ]
    },
    {
      "cell_type": "code",
      "source": [
        "import nltk\n",
        "from nltk.tokenize import word_tokenize\n",
        "from nltk import pos_tag\n",
        "\n",
        "nltk.download('averaged_perceptron_tagger')\n",
        "def preprocess_data(df):\n",
        "    word_counts = defaultdict(int)\n",
        "    label_counts = defaultdict(int)\n",
        "\n",
        "    for i, row in df.iterrows():\n",
        "        label, text = row['labels'], row['tokenized']\n",
        "\n",
        "        # Add POS tagging\n",
        "        pos_tags = pos_tag(text)\n",
        "\n",
        "        label_counts[label] += 1\n",
        "        for word, pos_tag in pos_tags:\n",
        "            word_counts[(word, pos_tag)] += 1  # Store word and its POS tag\n",
        "\n",
        "    return word_counts, label_counts\n",
        "def train_hmm(word_counts, label_counts):\n",
        "    initial_probs = {}\n",
        "    transition_probs = defaultdict(lambda: defaultdict(int))\n",
        "    emission_probs = defaultdict(lambda: defaultdict(int))\n",
        "\n",
        "    total_labels = sum(label_counts.values())\n",
        "\n",
        "    for label, count in label_counts.items():\n",
        "        initial_probs[label] = count / total_labels\n",
        "\n",
        "    for word_pos, count in word_counts.items():\n",
        "        word, pos_tag = word_pos\n",
        "\n",
        "        for label in label_counts.keys():\n",
        "            transition_probs[label][word_pos] = count / label_counts[label]\n",
        "\n",
        "        total_emissions = sum(transition_probs[label].values())\n",
        "        for word_pos in transition_probs[label].keys():\n",
        "            emission_probs[label][word_pos] = transition_probs[label][word_pos] / total_emissions\n",
        "\n",
        "    return initial_probs, transition_probs, emission_probs\n",
        "\n",
        "def viterbi(tweet, initial_probs, transition_probs, emission_probs):\n",
        "    if len(tweet) == 0:\n",
        "        return []\n",
        "\n",
        "    T = len(tweet)\n",
        "    N = len(sentiment_labels)\n",
        "\n",
        "    trellis = np.zeros((N, T))\n",
        "    backpointers = np.zeros((N, T), dtype=int)\n",
        "\n",
        "    for s in range(N):\n",
        "        trellis[s, 0] = initial_probs[sentiment_labels[s]] * emission_probs[sentiment_labels[s]][(tweet[0], pos_tag[0])]\n",
        "\n",
        "    for t in range(1, T):\n",
        "        for s in range(N):\n",
        "            max_prob = 0\n",
        "            max_state = 0\n",
        "            for prev_s in range(N):\n",
        "                prob = trellis[prev_s, t-1] * transition_probs[sentiment_labels[prev_s]][(tweet[t], pos_tag[t])] * emission_probs[sentiment_labels[s]][(tweet[t], pos_tag[t])]\n",
        "                if prob > max_prob:\n",
        "                    max_prob = prob\n",
        "                    max_state = prev_s\n",
        "            trellis[s, t] = max_prob\n",
        "            backpointers[s, t] = max_state\n",
        "\n",
        "    path = np.zeros(T, dtype=int)\n",
        "    path[T-1] = np.argmax(trellis[:, T-1])\n",
        "    for t in range(T-2, -1, -1):\n",
        "        path[t] = backpointers[path[t+1], t+1]\n",
        "\n",
        "    predicted_labels = [sentiment_labels[state] for state in path]\n",
        "    return predicted_labels\n"
      ],
      "metadata": {
        "colab": {
          "base_uri": "https://localhost:8080/"
        },
        "id": "u2ThSdxdRXTO",
        "outputId": "454e174e-92ef-4b29-b599-20875bd554c4"
      },
      "execution_count": null,
      "outputs": [
        {
          "output_type": "stream",
          "name": "stderr",
          "text": [
            "[nltk_data] Downloading package averaged_perceptron_tagger to\n",
            "[nltk_data]     /root/nltk_data...\n",
            "[nltk_data]   Unzipping taggers/averaged_perceptron_tagger.zip.\n"
          ]
        }
      ]
    },
    {
      "cell_type": "code",
      "source": [
        "train_df = df.sample(frac=0.8, random_state=1)\n",
        "test_df = df.drop(train_df.index)\n"
      ],
      "metadata": {
        "id": "xkqqZHVBRyal"
      },
      "execution_count": null,
      "outputs": []
    },
    {
      "cell_type": "code",
      "source": [
        "df = df[:100000]"
      ],
      "metadata": {
        "id": "Zv-4H2APascf"
      },
      "execution_count": null,
      "outputs": []
    },
    {
      "cell_type": "code",
      "source": [
        "import nltk\n",
        "from nltk.tokenize import word_tokenize\n",
        "from nltk import pos_tag as pt\n",
        "import numpy as np\n",
        "from collections import defaultdict\n",
        "\n",
        "sentiment_labels = ['good', 'bad', 'neutral']\n",
        "\n",
        "initial_probs = {}\n",
        "transition_probs = defaultdict(lambda: defaultdict(int))\n",
        "emission_probs = defaultdict(lambda: defaultdict(int))\n",
        "\n",
        "def preprocess_data(df):\n",
        "    word_counts = defaultdict(int)\n",
        "    label_counts = defaultdict(int)\n",
        "\n",
        "    for i, row in df.iterrows():\n",
        "        label, text = row['labels'], row['tokenized']\n",
        "\n",
        "        pos_tags = pt(text)\n",
        "\n",
        "        label_counts[label] += 1\n",
        "        for word, pos_tag in pos_tags:\n",
        "            word_counts[(word, pos_tag)] += 1\n",
        "\n",
        "    return word_counts, label_counts\n",
        "\n",
        "\n",
        "def train_hmm(word_counts, label_counts):\n",
        "    global initial_probs\n",
        "    global transition_probs\n",
        "    global emission_probs\n",
        "\n",
        "    total_labels = sum(label_counts.values())\n",
        "\n",
        "    for label, count in label_counts.items():\n",
        "        initial_probs[label] = count / total_labels\n",
        "\n",
        "    for word_pos, count in word_counts.items():\n",
        "        word, pos_tag = word_pos\n",
        "\n",
        "        for label in label_counts.keys():\n",
        "            transition_probs[label][word_pos] = count / label_counts[label]\n",
        "\n",
        "        total_emissions = sum(transition_probs[label].values())\n",
        "        for word_pos in transition_probs[label].keys():\n",
        "            emission_probs[label][word_pos] = transition_probs[label][word_pos] / total_emissions\n",
        "\n",
        "\n",
        "def viterbi(tweet, initial_probs, transition_probs, emission_probs):\n",
        "    if len(tweet) == 0:\n",
        "        return []\n",
        "\n",
        "    T = len(tweet)\n",
        "    N = len(sentiment_labels)\n",
        "\n",
        "    trellis = np.zeros((N, T))\n",
        "    backpointers = np.zeros((N, T), dtype=int)\n",
        "\n",
        "    for s in range(N):\n",
        "        trellis[s, 0] = initial_probs[sentiment_labels[s]] * emission_probs[sentiment_labels[s]][(tweet[0], pos_tag[0])]\n",
        "\n",
        "    for t in range(1, T):\n",
        "        for s in range(N):\n",
        "            max_prob = 0\n",
        "            max_state = 0\n",
        "            for prev_s in range(N):\n",
        "                prob = trellis[prev_s, t-1] * transition_probs[sentiment_labels[prev_s]][(tweet[t], pos_tag[t])] * \\\n",
        "                       emission_probs[sentiment_labels[s]][(tweet[t], pos_tag[t])]\n",
        "                if prob > max_prob:\n",
        "                    max_prob = prob\n",
        "                    max_state = prev_s\n",
        "            trellis[s, t] = max_prob\n",
        "            backpointers[s, t] = max_state\n",
        "\n",
        "    path = np.zeros(T, dtype=int)\n",
        "    path[T-1] = np.argmax(trellis[:, T-1])\n",
        "    for t in range(T-2, -1, -1):\n",
        "        path[t] = backpointers[path[t+1], t+1]\n",
        "\n",
        "    predicted_labels = [sentiment_labels[state] for state in path]\n",
        "    return predicted_labels\n",
        "\n",
        "\n",
        "train_df = df.sample(frac=0.8, random_state=1)\n",
        "test_df = df.drop(train_df.index)\n",
        "word_counts, label_counts = preprocess_data(train_df)\n",
        "\n",
        "train_hmm(word_counts, label_counts)\n"
      ],
      "metadata": {
        "id": "l49ZHtlWRXHL"
      },
      "execution_count": null,
      "outputs": []
    },
    {
      "cell_type": "code",
      "source": [
        "\n",
        "num_correct = 0\n",
        "num_total = 0\n",
        "\n",
        "for i, row in test_df.iterrows():\n",
        "    label, text = row['labels'], row['tokenized']\n",
        "\n",
        "    pos_tags = pt(text)\n",
        "\n",
        "    predicted_labels = viterbi(text, initial_probs, transition_probs, emission_probs)\n",
        "    if len(predicted_labels) > 0:\n",
        "        predicted_label = predicted_labels[-1]\n",
        "        if predicted_label == label:\n",
        "            num_correct += 1\n",
        "        num_total += 1\n",
        "\n",
        "accuracy = num_correct / num_total\n",
        "print(\"Accuracy:\", accuracy)"
      ],
      "metadata": {
        "id": "wYlJo6o8et7v"
      },
      "execution_count": null,
      "outputs": []
    },
    {
      "cell_type": "markdown",
      "metadata": {
        "id": "Bj_wnVr3BC-j"
      },
      "source": [
        "HIDDEN MARKOV MODEL"
      ]
    },
    {
      "cell_type": "markdown",
      "metadata": {
        "id": "1lMHJq-zuQbd"
      },
      "source": [
        "HMM + biGRAM"
      ]
    },
    {
      "cell_type": "code",
      "execution_count": null,
      "metadata": {
        "id": "buqsFJ-P0e9T"
      },
      "outputs": [],
      "source": [
        "from collections import defaultdict\n",
        "\n",
        "def preprocess_data(df):\n",
        "    word_counts = defaultdict(lambda: defaultdict(int))\n",
        "    label_counts = defaultdict(int)\n",
        "\n",
        "    for i, row in df.iterrows():\n",
        "        label, text = row['labels'], row['tokenized']\n",
        "        label_counts[label] += 1\n",
        "        # words = text.split()\n",
        "        for j in range(len(text)-1):\n",
        "            word1, word2 = text[j], text[j+1]\n",
        "            word_counts[word1][word2] += 1\n",
        "\n",
        "    return word_counts, label_counts\n",
        "\n",
        "\n",
        "def train_hmm(word_counts, label_counts):\n",
        "    initial_probs = {}\n",
        "    transition_probs = {}\n",
        "    emission_probs = {}\n",
        "\n",
        "    total_labels = sum(label_counts.values())\n",
        "\n",
        "    for label, count in label_counts.items():\n",
        "        initial_probs[label] = count / total_labels\n",
        "\n",
        "    for word1 in word_counts.keys():\n",
        "        total_transitions = sum(word_counts[word1].values())\n",
        "        transition_probs[word1] = {}\n",
        "        for word2, count in word_counts[word1].items():\n",
        "            transition_probs[word1][word2] = count / total_transitions\n",
        "\n",
        "    for word1 in word_counts.keys():\n",
        "        total_emissions = sum(word_counts[word1].values())\n",
        "        emission_probs[word1] = {}\n",
        "        for word2, count in word_counts[word1].items():\n",
        "            emission_probs[word1][word2] = count / total_emissions\n",
        "\n",
        "    return initial_probs, transition_probs, emission_probs\n",
        "\n",
        "\n",
        "def predict_sentiment(tweet, initial_probs, transition_probs, emission_probs):\n",
        "    current_label_probs = initial_probs.copy()\n",
        "\n",
        "    for j in range(len(tweet)-1):\n",
        "        word1, word2 = tweet[j], tweet[j+1]\n",
        "        if word1 in transition_probs and word2 in emission_probs[word1]:\n",
        "            for label in current_label_probs.keys():\n",
        "                current_label_probs[label] *= transition_probs[word1][word2] * emission_probs[word1][word2]\n",
        "\n",
        "        total_prob = sum(current_label_probs.values())\n",
        "        if total_prob > 0:\n",
        "            for label in current_label_probs.keys():\n",
        "                current_label_probs[label] /= total_prob\n",
        "\n",
        "    predicted_label = max(current_label_probs, key=current_label_probs.get)\n",
        "    return predicted_label\n",
        "\n",
        "train_df = df.sample(frac=0.8, random_state=1)\n",
        "test_df = df.drop(train_df.index)\n",
        "\n",
        "word_counts, label_counts = preprocess_data(train_df)\n",
        "\n",
        "initial_probs, transition_probs, emission_probs = train_hmm(word_counts, label_counts)\n",
        "\n",
        "num_correct = 0\n",
        "num_total = 0\n",
        "\n",
        "for i, row in test_df.iterrows():\n",
        "    label, text = row['labels'], row['tokenized']\n",
        "    predicted_label = predict_sentiment(text, initial_probs, transition_probs, emission_probs)\n",
        "    if predicted_label == label:\n",
        "        num_correct += 1\n",
        "    num_total += 1\n",
        "\n",
        "accuracy = num_correct / num_total\n",
        "print(accuracy)\n"
      ]
    },
    {
      "cell_type": "code",
      "source": [
        "from collections import defaultdict\n",
        "\n",
        "def preprocess_data(df):\n",
        "    word_counts = defaultdict(lambda: defaultdict(int))\n",
        "    label_counts = defaultdict(int)\n",
        "\n",
        "    for i, row in df.iterrows():\n",
        "        label, text = row['labels'], row['tokenized']\n",
        "        label_counts[label] += 1\n",
        "        for j in range(len(text)-1):\n",
        "            word1, word2 = text[j], text[j+1]\n",
        "            word_counts[word1][word2] += 1\n",
        "\n",
        "    return word_counts, label_counts\n",
        "\n",
        "\n",
        "\n",
        "def train_hmm(word_counts, label_counts):\n",
        "    initial_probs = {}\n",
        "    transition_probs = {}\n",
        "    emission_probs = {}\n",
        "\n",
        "    total_labels = sum(label_counts.values())\n",
        "\n",
        "    for label, count in label_counts.items():\n",
        "        initial_probs[label] = count / total_labels\n",
        "\n",
        "    for word1 in word_counts.keys():\n",
        "        total_transitions = sum(word_counts[word1].values())\n",
        "        transition_probs[word1] = {}\n",
        "        for word2, count in word_counts[word1].items():\n",
        "            transition_probs[word1][word2] = count / total_transitions\n",
        "\n",
        "    for word1 in word_counts.keys():\n",
        "        emission_probs[word1] = {}\n",
        "        total_emissions = sum(word_counts[word1].values())\n",
        "        for word2, count in word_counts[word1].items():\n",
        "            emission_probs[word1][word2] = count / total_emissions\n",
        "\n",
        "    return initial_probs, transition_probs, emission_probs\n",
        "\n",
        "import math\n",
        "\n",
        "def predict_sentiment(tweet, initial_probs, transition_probs, emission_probs):\n",
        "    current_label_probs = initial_probs.copy()\n",
        "    log_prob_sum = math.log(sum(initial_probs.values()))\n",
        "\n",
        "    for j in range(len(tweet)-1):\n",
        "        word1, word2 = tweet[j], tweet[j+1]\n",
        "        if word1 in transition_probs and word2 in emission_probs[word1]:\n",
        "            new_label_probs = {}\n",
        "            for label in current_label_probs.keys():\n",
        "                transition_prob = transition_probs[word1][word2]\n",
        "                emission_prob = emission_probs[word1][word2]\n",
        "                log_prob = math.log(transition_prob) + math.log(emission_prob)\n",
        "                new_label_probs[label] = current_label_probs[label] + log_prob\n",
        "\n",
        "            max_log_prob = max(new_label_probs.values())\n",
        "            log_prob_sum = math.log(math.exp(log_prob_sum) + math.exp(max_log_prob))\n",
        "\n",
        "            for label in new_label_probs.keys():\n",
        "                new_label_probs[label] -= log_prob_sum\n",
        "\n",
        "            current_label_probs = new_label_probs\n",
        "\n",
        "    predicted_label = max(current_label_probs, key=current_label_probs.get)\n",
        "    return predicted_label\n",
        "\n",
        "\n",
        "\n",
        "train_df = df.sample(frac=0.8, random_state=1)\n",
        "test_df = df.drop(train_df.index)\n",
        "\n",
        "word_counts, label_counts = preprocess_data(train_df)\n",
        "\n",
        "initial_probs, transition_probs, emission_probs = train_hmm(word_counts, label_counts)\n",
        "\n",
        "num_correct = 0\n",
        "num_total = 0\n",
        "\n",
        "for i, row in test_df.iterrows():\n",
        "    label, text = row['labels'], row['tokenized']\n",
        "    predicted_label = predict_sentiment(text, initial_probs, transition_probs, emission_probs)\n",
        "    if predicted_label == label:\n",
        "        num_correct += 1\n",
        "    num_total += 1\n",
        "\n",
        "accuracy = num_correct / num_total\n",
        "print(accuracy)\n"
      ],
      "metadata": {
        "colab": {
          "base_uri": "https://localhost:8080/"
        },
        "id": "lN12ol0bGBdw",
        "outputId": "0f95c667-3463-4c25-d1d6-37d25d4ba9d6"
      },
      "execution_count": null,
      "outputs": [
        {
          "output_type": "stream",
          "name": "stdout",
          "text": [
            "0.4932853006224492\n"
          ]
        }
      ]
    },
    {
      "cell_type": "code",
      "source": [
        "num_correct = 0\n",
        "num_total = 0\n",
        "p_labels = []\n",
        "for i, row in test_df.iterrows():\n",
        "    label, text = row['labels'], row['tokenized']\n",
        "    predicted_label = predict_sentiment(text, initial_probs, transition_probs, emission_probs)\n",
        "\n",
        "    if predicted_label == label:\n",
        "        num_correct += 1\n",
        "    num_total += 1\n",
        "    p_labels.append(predicted_label)\n",
        "\n",
        "print(set(p_labels))\n",
        "accuracy = num_correct / num_total\n",
        "print(accuracy)"
      ],
      "metadata": {
        "colab": {
          "base_uri": "https://localhost:8080/"
        },
        "id": "16ut2xnwEh3D",
        "outputId": "35ae77e5-d705-484b-8b4b-ee2e53402cb4"
      },
      "execution_count": null,
      "outputs": [
        {
          "output_type": "stream",
          "name": "stdout",
          "text": [
            "{'bad'}\n",
            "0.4932853006224492\n"
          ]
        }
      ]
    },
    {
      "cell_type": "markdown",
      "metadata": {
        "id": "P3Y1DlHIaI0y"
      },
      "source": [
        "HMM AND VITERBI"
      ]
    },
    {
      "cell_type": "code",
      "execution_count": null,
      "metadata": {
        "colab": {
          "base_uri": "https://localhost:8080/"
        },
        "id": "5ggP7jvp1yeH",
        "outputId": "b025a6fb-d609-4269-822f-0c573e2d83ef"
      },
      "outputs": [
        {
          "output_type": "stream",
          "name": "stdout",
          "text": [
            "Accuracy: 0.47707824658284465\n"
          ]
        }
      ],
      "source": [
        "from collections import defaultdict\n",
        "\n",
        "\n",
        "sentiment_labels = ['good', 'bad', 'neutral' ]\n",
        "\n",
        "#\n",
        "def preprocess_data(df):\n",
        "    word_counts = defaultdict(int)\n",
        "    label_counts = defaultdict(int)\n",
        "\n",
        "    for i, row in df.iterrows():\n",
        "        label, text = row['labels'], row['tokenized']\n",
        "        label_counts[label] += 1\n",
        "        for word in text:\n",
        "            word_counts[word] += 1\n",
        "    return word_counts, label_counts\n",
        "\n",
        "def train_hmm(word_counts, label_counts):\n",
        "    initial_probs = {}\n",
        "    transition_probs = defaultdict(lambda: defaultdict(int))\n",
        "    emission_probs = defaultdict(lambda: defaultdict(int))\n",
        "\n",
        "    total_labels = sum(label_counts.values())\n",
        "\n",
        "    for label, count in label_counts.items():\n",
        "        initial_probs[label] = count / total_labels\n",
        "\n",
        "    for word in word_counts.keys():\n",
        "        for label in label_counts.keys():\n",
        "            transition_probs[label][word] = word_counts[word] / label_counts[label]\n",
        "\n",
        "    for label in label_counts.keys():\n",
        "        total_emissions = sum(transition_probs[label].values())\n",
        "        for word in transition_probs[label].keys():\n",
        "            emission_probs[label][word] = transition_probs[label][word] / total_emissions\n",
        "\n",
        "    return initial_probs, transition_probs, emission_probs\n",
        "\n",
        "\n",
        "def viterbi(tweet, initial_probs, transition_probs, emission_probs):\n",
        "    if len(tweet) == 0:\n",
        "        return []\n",
        "\n",
        "    T = len(tweet)\n",
        "    N = len(sentiment_labels)\n",
        "\n",
        "    trellis = np.zeros((N, T))\n",
        "    backpointers = np.zeros((N, T), dtype=int)\n",
        "\n",
        "    for s in range(N):\n",
        "        trellis[s, 0] = initial_probs[sentiment_labels[s]] * emission_probs[sentiment_labels[s]][tweet[0]]\n",
        "\n",
        "    for t in range(1, T):\n",
        "        for s in range(N):\n",
        "            max_prob = 0\n",
        "            max_state = 0\n",
        "            for prev_s in range(N):\n",
        "                prob = trellis[prev_s, t-1] * transition_probs[sentiment_labels[prev_s]][tweet[t]] * emission_probs[sentiment_labels[s]][tweet[t]]\n",
        "                if prob > max_prob:\n",
        "                    max_prob = prob\n",
        "                    max_state = prev_s\n",
        "            trellis[s, t] = max_prob\n",
        "            backpointers[s, t] = max_state\n",
        "\n",
        "    path = np.zeros(T, dtype=int)\n",
        "    path[T-1] = np.argmax(trellis[:, T-1])\n",
        "    for t in range(T-2, -1, -1):\n",
        "        path[t] = backpointers[path[t+1], t+1]\n",
        "\n",
        "    predicted_labels = [sentiment_labels[state] for state in path]\n",
        "    return predicted_labels\n",
        "\n",
        "\n",
        "train_df = df.sample(frac=0.8, random_state=1)\n",
        "test_df = df.drop(train_df.index)\n",
        "word_counts, label_counts = preprocess_data(train_df)\n",
        "\n",
        "initial_probs, transition_probs, emission_probs = train_hmm(word_counts, label_counts)\n",
        "\n",
        "\n",
        "num_correct = 0\n",
        "num_total = 0\n",
        "ps = []\n",
        "ls = []\n",
        "for i, row in test_df.iterrows():\n",
        "    label, text = row['labels'], row['tokenized']\n",
        "    predicted_labels = viterbi(text, initial_probs, transition_probs, emission_probs)\n",
        "    if len(predicted_labels) > 0:\n",
        "        predicted_label = predicted_labels[-1]  # Use the last predicted label\n",
        "        if predicted_label == \"good\":\n",
        "          predicted_label = \"bad\"\n",
        "        elif predicted_label == \"bad\":\n",
        "          predicted_label = \"good\"\n",
        "        if predicted_label == label:\n",
        "            num_correct += 1\n",
        "        num_total += 1\n",
        "        ps.append(predicted_label)\n",
        "        ls.append(label)\n",
        "\n",
        "\n",
        "accuracy = num_correct / num_total\n",
        "print(\"Accuracy:\", accuracy)"
      ]
    },
    {
      "cell_type": "code",
      "source": [
        "import matplotlib.pyplot as plt\n",
        "plt.hist(ps, label = 'predicted');\n",
        "plt.hist(ls, label = 'labels');\n",
        "plt.legend()"
      ],
      "metadata": {
        "colab": {
          "base_uri": "https://localhost:8080/",
          "height": 448
        },
        "id": "DsJy-acdKCoy",
        "outputId": "f1a3763d-dbb1-4e8c-ea49-3db719244063"
      },
      "execution_count": null,
      "outputs": [
        {
          "output_type": "execute_result",
          "data": {
            "text/plain": [
              "<matplotlib.legend.Legend at 0x7f6ac2775510>"
            ]
          },
          "metadata": {},
          "execution_count": 34
        },
        {
          "output_type": "display_data",
          "data": {
            "text/plain": [
              "<Figure size 640x480 with 1 Axes>"
            ],
            "image/png": "[encoded data removed]"
          },
          "metadata": {}
        }
      ]
    },
    {
      "cell_type": "markdown",
      "metadata": {
        "id": "RMVrL8SpW0L4"
      },
      "source": [
        "NAIVE BAYES"
      ]
    },
    {
      "cell_type": "code",
      "execution_count": null,
      "metadata": {
        "colab": {
          "base_uri": "https://localhost:8080/"
        },
        "id": "TfVrbO7FUzr5",
        "outputId": "8022b40f-1a05-4618-a238-4882cd2a851b"
      },
      "outputs": [
        {
          "name": "stdout",
          "output_type": "stream",
          "text": [
            "Accuracy: 0.7423561868715657\n"
          ]
        }
      ],
      "source": [
        "import pandas as pd\n",
        "from sklearn.feature_extraction.text import CountVectorizer\n",
        "from sklearn.model_selection import train_test_split\n",
        "from sklearn.naive_bayes import MultinomialNB\n",
        "from sklearn.metrics import accuracy_score\n",
        "\n",
        "\n",
        "train_df, test_df = train_test_split(df, test_size=0.2, random_state=42)\n",
        "\n",
        "vectorizer = CountVectorizer()\n",
        "X_train = vectorizer.fit_transform(train_df['joined'])\n",
        "X_test = vectorizer.transform(test_df['joined'])\n",
        "\n",
        "y_train = train_df['labels']\n",
        "y_test = test_df['labels']\n",
        "\n",
        "naive_bayes = MultinomialNB()\n",
        "naive_bayes.fit(X_train, y_train)\n",
        "\n",
        "y_pred = naive_bayes.predict(X_test)\n",
        "\n",
        "accuracy = accuracy_score(y_test, y_pred)\n",
        "print(\"Accuracy:\", accuracy)\n"
      ]
    },
    {
      "cell_type": "markdown",
      "metadata": {
        "id": "5j27gPGXaDt-"
      },
      "source": [
        "NEW DATA PREDICTION WITH NAIVE BAYES"
      ]
    },
    {
      "cell_type": "code",
      "execution_count": null,
      "metadata": {
        "colab": {
          "base_uri": "https://localhost:8080/"
        },
        "id": "xpsjTLytUzox",
        "outputId": "1238093d-a182-4902-e73f-e7134c8d7394"
      },
      "outputs": [
        {
          "name": "stdout",
          "output_type": "stream",
          "text": [
            "Prediction: good\n"
          ]
        }
      ],
      "source": [
        "import pandas as pd\n",
        "from sklearn.feature_extraction.text import CountVectorizer\n",
        "from sklearn.naive_bayes import MultinomialNB\n",
        "\n",
        "X = df['joined']\n",
        "y = df['labels']\n",
        "\n",
        "vectorizer = CountVectorizer()\n",
        "X_vectorized = vectorizer.fit_transform(X)\n",
        "\n",
        "nb_model = MultinomialNB()\n",
        "nb_model.fit(X_vectorized, y)\n",
        "\n",
        "def preprocess_and_predict(tweet):\n",
        "    preprocessed_tweet = preprocessor(tweet)\n",
        "    tweet_vectorized = vectorizer.transform([preprocessed_tweet])\n",
        "    prediction = nb_model.predict(tweet_vectorized)[0]\n",
        "    return prediction\n",
        "\n",
        "# New data\n",
        "new_tweet = \"i don't know if i like it or not\"\n",
        "prediction = preprocess_and_predict(new_tweet)\n",
        "print(\"Prediction:\", prediction)\n"
      ]
    },
    {
      "cell_type": "markdown",
      "metadata": {
        "id": "wubj0ECoqa5T"
      },
      "source": [
        "SVM"
      ]
    },
    {
      "cell_type": "code",
      "execution_count": null,
      "metadata": {
        "colab": {
          "base_uri": "https://localhost:8080/"
        },
        "id": "OUhuyMCuqZ8Z",
        "outputId": "003c767f-00e2-4b05-ff34-34292aaca041"
      },
      "outputs": [
        {
          "name": "stdout",
          "output_type": "stream",
          "text": [
            "SVM Accuracy: 0.8475\n"
          ]
        }
      ],
      "source": [
        "from sklearn.feature_extraction.text import TfidfVectorizer\n",
        "from sklearn.svm import SVC\n",
        "from sklearn.pipeline import Pipeline\n",
        "from sklearn.model_selection import train_test_split\n",
        "from sklearn.metrics import accuracy_score\n",
        "\n",
        "\n",
        "X = df['joined']\n",
        "y = df['labels']\n",
        "\n",
        "X_train, X_test, y_train, y_test = train_test_split(X, y, test_size=0.2, random_state=42)\n",
        "\n",
        "pipeline = Pipeline([\n",
        "    ('tfidf', TfidfVectorizer()),\n",
        "    ('svm', SVC(probability=False, kernel='linear'))])\n",
        "\n",
        "pipeline.fit(X_train, y_train)\n",
        "\n",
        "y_pred = pipeline.predict(X_test)\n",
        "\n",
        "accuracy = accuracy_score(y_test, y_pred)\n",
        "print(\"SVM Accuracy:\", accuracy)"
      ]
    },
    {
      "cell_type": "code",
      "execution_count": null,
      "metadata": {
        "colab": {
          "base_uri": "https://localhost:8080/"
        },
        "id": "5KCxrB0IqjKf",
        "outputId": "b1b82485-9d77-4edb-c640-c28f886be3e1"
      },
      "outputs": [
        {
          "data": {
            "text/plain": [
              "['/content/drive/MyDrive/svm_model.pkl']"
            ]
          },
          "execution_count": 7,
          "metadata": {},
          "output_type": "execute_result"
        }
      ],
      "source": [
        "#save the trained svm\n",
        "import joblib\n",
        "joblib.dump(pipeline, '/content/drive/MyDrive/svm_model.pkl')"
      ]
    },
    {
      "cell_type": "code",
      "source": [
        "import pandas as pd\n",
        "import re\n",
        "import numpy as np\n",
        "import nltk\n",
        "from nltk.corpus import stopwords\n",
        "from nltk.stem import WordNetLemmatizer\n",
        "from nltk.stem import PorterStemmer\n",
        "from nltk.tokenize import word_tokenize\n",
        "\n",
        "my_stemmer = PorterStemmer()\n",
        "nltk.download('wordnet')\n",
        "nltk.download('stopwords')\n",
        "num_reviews = df['tweets'].size\n",
        "nltk.download('punkt')\n",
        "\n",
        "def preprocessor(raw_review):\n",
        "    clean1 = re.sub(r'http\\S+', ' ', raw_review)\n",
        "    clean2 = re.sub(r'www\\S+', ' ', clean1)\n",
        "    clean3 = re.sub(r'@\\w+', ' ', clean2)\n",
        "    clean4 = re.sub(r'#\\w+', ' ', clean3)\n",
        "    letters_only = re.sub(\"[^a-zA-Z]\", \" \", clean4)\n",
        "    words = word_tokenize(letters_only.lower())\n",
        "    stops = set(stopwords.words(\"english\"))\n",
        "    meaningful_words = [w for w in words if not w in stops]\n",
        "    lemmatizer = WordNetLemmatizer()\n",
        "    lemmatized_words = [lemmatizer.lemmatize(word) for word in meaningful_words]\n",
        "    return \" \".join(lemmatized_words)\n",
        "    # return lemmatized_words"
      ],
      "metadata": {
        "colab": {
          "base_uri": "https://localhost:8080/"
        },
        "id": "mm5nxOXJdVJk",
        "outputId": "57b06e8a-717e-4bac-d83d-7b56a49a48e9"
      },
      "execution_count": null,
      "outputs": [
        {
          "output_type": "stream",
          "name": "stderr",
          "text": [
            "[nltk_data] Downloading package wordnet to /root/nltk_data...\n",
            "[nltk_data]   Package wordnet is already up-to-date!\n",
            "[nltk_data] Downloading package stopwords to /root/nltk_data...\n",
            "[nltk_data]   Package stopwords is already up-to-date!\n",
            "[nltk_data] Downloading package punkt to /root/nltk_data...\n",
            "[nltk_data]   Package punkt is already up-to-date!\n"
          ]
        }
      ]
    },
    {
      "cell_type": "code",
      "execution_count": null,
      "metadata": {
        "colab": {
          "base_uri": "https://localhost:8080/"
        },
        "id": "OHA7ohMMJHBp",
        "outputId": "07f26c2d-3b79-4693-ae21-82a76f96eef1"
      },
      "outputs": [
        {
          "output_type": "stream",
          "name": "stdout",
          "text": [
            "Predicted label: neutral\n"
          ]
        }
      ],
      "source": [
        "import joblib\n",
        "# Load the saved SVM model\n",
        "pipeline = joblib.load('/content/drive/MyDrive/svm_model.pkl')\n",
        "\n",
        "# New tweet to predict\n",
        "new_tweet = \"chatgpt is a good invention but also harmful for software developers' career\"\n",
        "\n",
        "preprocessed_tweet = preprocessor(new_tweet)\n",
        "prediction = pipeline.predict([preprocessed_tweet])\n",
        "print(\"Predicted label:\", prediction[0])"
      ]
    },
    {
      "cell_type": "markdown",
      "metadata": {
        "id": "FHqARgWfJnNf"
      },
      "source": [
        "RANDOM FOREST"
      ]
    },
    {
      "cell_type": "code",
      "execution_count": null,
      "metadata": {
        "colab": {
          "base_uri": "https://localhost:8080/"
        },
        "id": "JjBwbjRIJc4T",
        "outputId": "2441fcb4-b752-4216-fe6b-2470b40976e9"
      },
      "outputs": [
        {
          "name": "stdout",
          "output_type": "stream",
          "text": [
            "Random Forest Accuracy: 0.8079299573633689\n"
          ]
        }
      ],
      "source": [
        "from sklearn.feature_extraction.text import TfidfVectorizer\n",
        "from sklearn.ensemble import RandomForestClassifier\n",
        "from sklearn.model_selection import train_test_split\n",
        "from sklearn.metrics import accuracy_score\n",
        "\n",
        "\n",
        "X = df['joined']\n",
        "y = df['labels']\n",
        "\n",
        "X_train, X_test, y_train, y_test = train_test_split(X, y, test_size=0.2, random_state=42)\n",
        "\n",
        "vectorizer = TfidfVectorizer()\n",
        "\n",
        "X_train_transformed = vectorizer.fit_transform(X_train)\n",
        "\n",
        "X_test_transformed = vectorizer.transform(X_test)\n",
        "\n",
        "rf_classifier = RandomForestClassifier()\n",
        "\n",
        "rf_classifier.fit(X_train_transformed, y_train)\n",
        "\n",
        "y_pred = rf_classifier.predict(X_test_transformed)\n",
        "\n",
        "accuracy = accuracy_score(y_test, y_pred)\n",
        "print(\"Random Forest Accuracy:\", accuracy)"
      ]
    },
    {
      "cell_type": "code",
      "execution_count": null,
      "metadata": {
        "colab": {
          "base_uri": "https://localhost:8080/"
        },
        "id": "inzxqopkJ-IP",
        "outputId": "8cf86809-4a4c-439a-b6aa-df9ba02dcad8"
      },
      "outputs": [
        {
          "data": {
            "text/plain": [
              "['/content/drive/MyDrive/rf_model.pkl']"
            ]
          },
          "execution_count": 19,
          "metadata": {},
          "output_type": "execute_result"
        }
      ],
      "source": [
        "#save rf model\n",
        "joblib.dump(pipeline, '/content/drive/MyDrive/rf_model.pkl')"
      ]
    },
    {
      "cell_type": "code",
      "execution_count": null,
      "metadata": {
        "colab": {
          "base_uri": "https://localhost:8080/"
        },
        "id": "Tq4vFCL-LqzK",
        "outputId": "72791fca-251d-4f96-c438-d85d1573cb47"
      },
      "outputs": [
        {
          "name": "stdout",
          "output_type": "stream",
          "text": [
            "Predicted label: good\n"
          ]
        }
      ],
      "source": [
        "# Load the saved model\n",
        "pipeline = joblib.load('/content/drive/MyDrive/rf_model.pkl')\n",
        "\n",
        "# New tweet to predict\n",
        "new_tweet = \"chatgpt is awesome but I'm not sure if I should use it\"\n",
        "\n",
        "preprocessed_tweet = preprocessor(new_tweet)\n",
        "\n",
        "prediction = pipeline.predict([preprocessed_tweet])\n",
        "\n",
        "print(\"Predicted label:\", prediction[0])"
      ]
    },
    {
      "cell_type": "markdown",
      "metadata": {
        "id": "Q4G4CX9jZIIb"
      },
      "source": [
        "RNN"
      ]
    },
    {
      "cell_type": "code",
      "execution_count": null,
      "metadata": {
        "id": "V0GHiI0KZbHq"
      },
      "outputs": [],
      "source": [
        "df['new_label'] = None"
      ]
    },
    {
      "cell_type": "code",
      "execution_count": null,
      "metadata": {
        "id": "uem6LfA6Zg7y"
      },
      "outputs": [],
      "source": [
        "for i in df.index:\n",
        "    if df.labels[i] == 'bad' :\n",
        "        df.loc[i, 'new_label'] = 0\n",
        "    elif df.labels[i] == 'neutral':\n",
        "        df.loc[i, 'new_label'] = 1\n",
        "    elif df.labels[i] == 'good':\n",
        "        df.loc[i, 'new_label'] = 2"
      ]
    },
    {
      "cell_type": "code",
      "execution_count": null,
      "metadata": {
        "colab": {
          "base_uri": "https://localhost:8080/",
          "height": 206
        },
        "id": "BILtbMxZaEP4",
        "outputId": "9a1e6011-c5f9-4340-86de-ef618e852ccc"
      },
      "outputs": [
        {
          "data": {
            "text/html": [
              "\n",
              "  <div id=\"df-b28fcb3f-2afe-41d7-a6c6-41da48d5f4b8\">\n",
              "    <div class=\"colab-df-container\">\n",
              "      <div>\n",
              "<style scoped>\n",
              "    .dataframe tbody tr th:only-of-type {\n",
              "        vertical-align: middle;\n",
              "    }\n",
              "\n",
              "    .dataframe tbody tr th {\n",
              "        vertical-align: top;\n",
              "    }\n",
              "\n",
              "    .dataframe thead th {\n",
              "        text-align: right;\n",
              "    }\n",
              "</style>\n",
              "<table border=\"1\" class=\"dataframe\">\n",
              "  <thead>\n",
              "    <tr style=\"text-align: right;\">\n",
              "      <th></th>\n",
              "      <th>Unnamed: 0</th>\n",
              "      <th>tweets</th>\n",
              "      <th>labels</th>\n",
              "      <th>joined</th>\n",
              "      <th>new_label</th>\n",
              "    </tr>\n",
              "  </thead>\n",
              "  <tbody>\n",
              "    <tr>\n",
              "      <th>0</th>\n",
              "      <td>0</td>\n",
              "      <td>ChatGPT: Optimizing Language Models for Dialog...</td>\n",
              "      <td>neutral</td>\n",
              "      <td>chatgpt optimizing language model dialogue</td>\n",
              "      <td>1</td>\n",
              "    </tr>\n",
              "    <tr>\n",
              "      <th>1</th>\n",
              "      <td>1</td>\n",
              "      <td>Try talking with ChatGPT, our new AI system wh...</td>\n",
              "      <td>good</td>\n",
              "      <td>try talking chatgpt new ai system optimized di...</td>\n",
              "      <td>2</td>\n",
              "    </tr>\n",
              "    <tr>\n",
              "      <th>2</th>\n",
              "      <td>2</td>\n",
              "      <td>ChatGPT: Optimizing Language Models for Dialog...</td>\n",
              "      <td>neutral</td>\n",
              "      <td>chatgpt optimizing language model dialogue n n...</td>\n",
              "      <td>1</td>\n",
              "    </tr>\n",
              "    <tr>\n",
              "      <th>3</th>\n",
              "      <td>3</td>\n",
              "      <td>THRILLED to share that ChatGPT, our new model ...</td>\n",
              "      <td>good</td>\n",
              "      <td>thrilled share chatgpt new model optimized dia...</td>\n",
              "      <td>2</td>\n",
              "    </tr>\n",
              "    <tr>\n",
              "      <th>4</th>\n",
              "      <td>4</td>\n",
              "      <td>As of 2 minutes ago, @OpenAI released their ne...</td>\n",
              "      <td>bad</td>\n",
              "      <td>minute ago released new chatgpt n nand use right</td>\n",
              "      <td>0</td>\n",
              "    </tr>\n",
              "  </tbody>\n",
              "</table>\n",
              "</div>\n",
              "      <button class=\"colab-df-convert\" onclick=\"convertToInteractive('df-b28fcb3f-2afe-41d7-a6c6-41da48d5f4b8')\"\n",
              "              title=\"Convert this dataframe to an interactive table.\"\n",
              "              style=\"display:none;\">\n",
              "        \n",
              "  <svg xmlns=\"http://www.w3.org/2000/svg\" height=\"24px\"viewBox=\"0 0 24 24\"\n",
              "       width=\"24px\">\n",
              "    <path d=\"M0 0h24v24H0V0z\" fill=\"none\"/>\n",
              "    <path d=\"M18.56 5.44l.94 2.06.94-2.06 2.06-.94-2.06-.94-.94-2.06-.94 2.06-2.06.94zm-11 1L8.5 8.5l.94-2.06 2.06-.94-2.06-.94L8.5 2.5l-.94 2.06-2.06.94zm10 10l.94 2.06.94-2.06 2.06-.94-2.06-.94-.94-2.06-.94 2.06-2.06.94z\"/><path d=\"M17.41 7.96l-1.37-1.37c-.4-.4-.92-.59-1.43-.59-.52 0-1.04.2-1.43.59L10.3 9.45l-7.72 7.72c-.78.78-.78 2.05 0 2.83L4 21.41c.39.39.9.59 1.41.59.51 0 1.02-.2 1.41-.59l7.78-7.78 2.81-2.81c.8-.78.8-2.07 0-2.86zM5.41 20L4 18.59l7.72-7.72 1.47 1.35L5.41 20z\"/>\n",
              "  </svg>\n",
              "      </button>\n",
              "      \n",
              "  <style>\n",
              "    .colab-df-container {\n",
              "      display:flex;\n",
              "      flex-wrap:wrap;\n",
              "      gap: 12px;\n",
              "    }\n",
              "\n",
              "    .colab-df-convert {\n",
              "      background-color: #E8F0FE;\n",
              "      border: none;\n",
              "      border-radius: 50%;\n",
              "      cursor: pointer;\n",
              "      display: none;\n",
              "      fill: #1967D2;\n",
              "      height: 32px;\n",
              "      padding: 0 0 0 0;\n",
              "      width: 32px;\n",
              "    }\n",
              "\n",
              "    .colab-df-convert:hover {\n",
              "      background-color: #E2EBFA;\n",
              "      box-shadow: 0px 1px 2px rgba(60, 64, 67, 0.3), 0px 1px 3px 1px rgba(60, 64, 67, 0.15);\n",
              "      fill: #174EA6;\n",
              "    }\n",
              "\n",
              "    [theme=dark] .colab-df-convert {\n",
              "      background-color: #3B4455;\n",
              "      fill: #D2E3FC;\n",
              "    }\n",
              "\n",
              "    [theme=dark] .colab-df-convert:hover {\n",
              "      background-color: #434B5C;\n",
              "      box-shadow: 0px 1px 3px 1px rgba(0, 0, 0, 0.15);\n",
              "      filter: drop-shadow(0px 1px 2px rgba(0, 0, 0, 0.3));\n",
              "      fill: #FFFFFF;\n",
              "    }\n",
              "  </style>\n",
              "\n",
              "      <script>\n",
              "        const buttonEl =\n",
              "          document.querySelector('#df-b28fcb3f-2afe-41d7-a6c6-41da48d5f4b8 button.colab-df-convert');\n",
              "        buttonEl.style.display =\n",
              "          google.colab.kernel.accessAllowed ? 'block' : 'none';\n",
              "\n",
              "        async function convertToInteractive(key) {\n",
              "          const element = document.querySelector('#df-b28fcb3f-2afe-41d7-a6c6-41da48d5f4b8');\n",
              "          const dataTable =\n",
              "            await google.colab.kernel.invokeFunction('convertToInteractive',\n",
              "                                                     [key], {});\n",
              "          if (!dataTable) return;\n",
              "\n",
              "          const docLinkHtml = 'Like what you see? Visit the ' +\n",
              "            '<a target=\"_blank\" href=https://colab.research.google.com/notebooks/data_table.ipynb>data table notebook</a>'\n",
              "            + ' to learn more about interactive tables.';\n",
              "          element.innerHTML = '';\n",
              "          dataTable['output_type'] = 'display_data';\n",
              "          await google.colab.output.renderOutput(dataTable, element);\n",
              "          const docLink = document.createElement('div');\n",
              "          docLink.innerHTML = docLinkHtml;\n",
              "          element.appendChild(docLink);\n",
              "        }\n",
              "      </script>\n",
              "    </div>\n",
              "  </div>\n",
              "  "
            ],
            "text/plain": [
              "   Unnamed: 0                                             tweets   labels  \\\n",
              "0           0  ChatGPT: Optimizing Language Models for Dialog...  neutral   \n",
              "1           1  Try talking with ChatGPT, our new AI system wh...     good   \n",
              "2           2  ChatGPT: Optimizing Language Models for Dialog...  neutral   \n",
              "3           3  THRILLED to share that ChatGPT, our new model ...     good   \n",
              "4           4  As of 2 minutes ago, @OpenAI released their ne...      bad   \n",
              "\n",
              "                                              joined new_label  \n",
              "0         chatgpt optimizing language model dialogue         1  \n",
              "1  try talking chatgpt new ai system optimized di...         2  \n",
              "2  chatgpt optimizing language model dialogue n n...         1  \n",
              "3  thrilled share chatgpt new model optimized dia...         2  \n",
              "4   minute ago released new chatgpt n nand use right         0  "
            ]
          },
          "execution_count": 32,
          "metadata": {},
          "output_type": "execute_result"
        }
      ],
      "source": [
        "df.head()"
      ]
    },
    {
      "cell_type": "code",
      "execution_count": null,
      "metadata": {
        "colab": {
          "base_uri": "https://localhost:8080/"
        },
        "id": "CDWsLCDFY8jq",
        "outputId": "a6ea8c72-021d-44d5-a6e1-7ddd60d2bbe3"
      },
      "outputs": [
        {
          "name": "stdout",
          "output_type": "stream",
          "text": [
            "Epoch 1/10\n",
            "5483/5483 [==============================] - 76s 13ms/step - loss: -55.6008 - accuracy: 0.5376 - val_loss: -123.1615 - val_accuracy: 0.5803\n",
            "Epoch 2/10\n",
            "5483/5483 [==============================] - 44s 8ms/step - loss: -171.6275 - accuracy: 0.5350 - val_loss: -250.1013 - val_accuracy: 0.5990\n",
            "Epoch 3/10\n",
            "5483/5483 [==============================] - 45s 8ms/step - loss: -316.7724 - accuracy: 0.5897 - val_loss: -375.1447 - val_accuracy: 0.5720\n",
            "Epoch 4/10\n",
            "5483/5483 [==============================] - 43s 8ms/step - loss: -475.8191 - accuracy: 0.6159 - val_loss: -541.7548 - val_accuracy: 0.6279\n",
            "Epoch 5/10\n",
            "5483/5483 [==============================] - 44s 8ms/step - loss: -637.2718 - accuracy: 0.6361 - val_loss: -716.8143 - val_accuracy: 0.6463\n",
            "Epoch 6/10\n",
            "5483/5483 [==============================] - 45s 8ms/step - loss: -819.2163 - accuracy: 0.6533 - val_loss: -847.2174 - val_accuracy: 0.6527\n",
            "Epoch 7/10\n",
            "5483/5483 [==============================] - 42s 8ms/step - loss: -997.9658 - accuracy: 0.6711 - val_loss: -1036.0951 - val_accuracy: 0.6579\n",
            "Epoch 8/10\n",
            "5483/5483 [==============================] - 42s 8ms/step - loss: -1165.1669 - accuracy: 0.6782 - val_loss: -1193.7235 - val_accuracy: 0.6644\n",
            "Epoch 9/10\n",
            "5483/5483 [==============================] - 43s 8ms/step - loss: -1329.1543 - accuracy: 0.6829 - val_loss: -1334.4958 - val_accuracy: 0.6541\n",
            "Epoch 10/10\n",
            "5483/5483 [==============================] - 43s 8ms/step - loss: -1505.0073 - accuracy: 0.6892 - val_loss: -1501.9153 - val_accuracy: 0.6584\n",
            "1371/1371 [==============================] - 4s 3ms/step\n",
            "RNN Accuracy: 0.6584281447365421\n"
          ]
        }
      ],
      "source": [
        "import numpy as np\n",
        "import tensorflow as tf\n",
        "from tensorflow.keras.preprocessing.text import Tokenizer\n",
        "from tensorflow.keras.preprocessing.sequence import pad_sequences\n",
        "from tensorflow.keras.models import Sequential\n",
        "from tensorflow.keras.layers import Embedding, LSTM, Dense\n",
        "from sklearn.model_selection import train_test_split\n",
        "from sklearn.metrics import accuracy_score\n",
        "\n",
        "\n",
        "X = df['joined']\n",
        "y = df['new_label']\n",
        "\n",
        "X_train, X_test, y_train, y_test = train_test_split(X, y, test_size=0.2, random_state=42)\n",
        "\n",
        "tokenizer = Tokenizer()\n",
        "tokenizer.fit_on_texts(X_train)\n",
        "X_train_tokens = tokenizer.texts_to_sequences(X_train)\n",
        "X_test_tokens = tokenizer.texts_to_sequences(X_test)\n",
        "\n",
        "max_sequence_length = max([len(tokens) for tokens in X_train_tokens])\n",
        "X_train_padded = pad_sequences(X_train_tokens, maxlen=max_sequence_length, padding='post')\n",
        "X_test_padded = pad_sequences(X_test_tokens, maxlen=max_sequence_length, padding='post')\n",
        "\n",
        "X_train_padded = tf.convert_to_tensor(X_train_padded, dtype=tf.int32)\n",
        "X_test_padded = tf.convert_to_tensor(X_test_padded, dtype=tf.int32)\n",
        "y_train = tf.convert_to_tensor(y_train, dtype=tf.int32)\n",
        "y_test = tf.convert_to_tensor(y_test, dtype=tf.int32)\n",
        "\n",
        "model = Sequential()\n",
        "model.add(Embedding(len(tokenizer.word_index) + 1, 100, input_length=max_sequence_length))\n",
        "model.add(LSTM(128))\n",
        "model.add(Dense(1, activation='sigmoid'))\n",
        "\n",
        "model.compile(loss='binary_crossentropy', optimizer='adam', metrics=['accuracy'])\n",
        "\n",
        "model.fit(X_train_padded, y_train, validation_data=(X_test_padded, y_test), epochs=10, batch_size=32)\n",
        "\n",
        "y_pred_prob = model.predict(X_test_padded)\n",
        "y_pred = np.round(y_pred_prob).astype(int)\n",
        "\n",
        "accuracy = accuracy_score(y_test, y_pred)\n",
        "print(\"RNN Accuracy:\", accuracy)"
      ]
    },
    {
      "cell_type": "code",
      "execution_count": null,
      "metadata": {
        "id": "6XVjQDtYYrLg"
      },
      "outputs": [],
      "source": [
        "#save rnn model\n",
        "model.save('/content/drive/MyDrive/rnn_model.h5')"
      ]
    },
    {
      "cell_type": "code",
      "execution_count": null,
      "metadata": {
        "colab": {
          "base_uri": "https://localhost:8080/"
        },
        "id": "VeYPn3lrYp8A",
        "outputId": "fcc90bae-8889-45ab-cdbf-723b90d9d076"
      },
      "outputs": [
        {
          "name": "stdout",
          "output_type": "stream",
          "text": [
            "1/1 [==============================] - 1s 545ms/step\n",
            "Predicted Label: bad\n"
          ]
        }
      ],
      "source": [
        "import tensorflow as tf\n",
        "from tensorflow.keras.models import load_model\n",
        "from tensorflow.keras.preprocessing.sequence import pad_sequences\n",
        "\n",
        "# Load the saved model\n",
        "model = load_model('/content/drive/MyDrive/rnn_model.h5')\n",
        "\n",
        "tokenizer = Tokenizer()\n",
        "max_sequence_length = max([len(tokens) for tokens in X_train_tokens])\n",
        "\n",
        "def preprocess_tweet(tweet):\n",
        "    tokens = tokenizer.texts_to_sequences([tweet])\n",
        "    padded_sequence = pad_sequences(tokens, maxlen=max_sequence_length)\n",
        "    return padded_sequence\n",
        "\n",
        "# New tweet to predict\n",
        "new_tweet = \"i don't know if i like it\"\n",
        "\n",
        "preprocessed_tweet = preprocess_tweet(new_tweet)\n",
        "\n",
        "predictions = model.predict(preprocessed_tweet)\n",
        "predicted_label = tf.argmax(predictions, axis=1).numpy()[0]\n",
        "\n",
        "if predicted_label == 0:\n",
        "  predicted_label = 'bad'\n",
        "elif predicted_label == 1:\n",
        "  predicted_label = 'neutral'\n",
        "elif predicted_label == 2:\n",
        "  predicted_label = 'good'\n",
        "\n",
        "print(\"Predicted Label:\", predicted_label)"
      ]
    },
    {
      "cell_type": "markdown",
      "metadata": {
        "id": "FwQMNYYJh6Sm"
      },
      "source": [
        "CNN"
      ]
    },
    {
      "cell_type": "code",
      "execution_count": null,
      "metadata": {
        "colab": {
          "base_uri": "https://localhost:8080/"
        },
        "id": "TmWpzwALhjz1",
        "outputId": "a7cff0cf-305f-4e64-86fd-0b17b5747198"
      },
      "outputs": [
        {
          "name": "stdout",
          "output_type": "stream",
          "text": [
            "Epoch 1/10\n",
            "5483/5483 [==============================] - 70s 12ms/step - loss: -92619.0469 - accuracy: 0.5026 - val_loss: -324672.5000 - val_accuracy: 0.5224\n",
            "Epoch 2/10\n",
            "5483/5483 [==============================] - 36s 7ms/step - loss: -961455.7500 - accuracy: 0.5181 - val_loss: -1813087.2500 - val_accuracy: 0.5099\n",
            "Epoch 3/10\n",
            "5483/5483 [==============================] - 33s 6ms/step - loss: -3302530.7500 - accuracy: 0.5208 - val_loss: -5032567.0000 - val_accuracy: 0.5171\n",
            "Epoch 4/10\n",
            "5483/5483 [==============================] - 32s 6ms/step - loss: -7697423.5000 - accuracy: 0.5221 - val_loss: -10568711.0000 - val_accuracy: 0.5162\n",
            "Epoch 5/10\n",
            "5483/5483 [==============================] - 31s 6ms/step - loss: -14726738.0000 - accuracy: 0.5222 - val_loss: -18960358.0000 - val_accuracy: 0.5147\n",
            "Epoch 6/10\n",
            "5483/5483 [==============================] - 32s 6ms/step - loss: -24940060.0000 - accuracy: 0.5214 - val_loss: -30762702.0000 - val_accuracy: 0.5186\n",
            "Epoch 7/10\n",
            "5483/5483 [==============================] - 32s 6ms/step - loss: -38958236.0000 - accuracy: 0.5218 - val_loss: -46545472.0000 - val_accuracy: 0.5119\n",
            "Epoch 8/10\n",
            "5483/5483 [==============================] - 31s 6ms/step - loss: -57216072.0000 - accuracy: 0.5221 - val_loss: -66840900.0000 - val_accuracy: 0.5127\n",
            "Epoch 9/10\n",
            "5483/5483 [==============================] - 32s 6ms/step - loss: -80374264.0000 - accuracy: 0.5214 - val_loss: -92190432.0000 - val_accuracy: 0.5117\n",
            "Epoch 10/10\n",
            "5483/5483 [==============================] - 32s 6ms/step - loss: -108960192.0000 - accuracy: 0.5217 - val_loss: -123096040.0000 - val_accuracy: 0.5074\n",
            "1371/1371 [==============================] - 2s 1ms/step\n",
            "CNN Accuracy: 0.5074443101757906\n"
          ]
        }
      ],
      "source": [
        "import numpy as np\n",
        "import tensorflow as tf\n",
        "from tensorflow.keras.preprocessing.text import Tokenizer\n",
        "from tensorflow.keras.preprocessing.sequence import pad_sequences\n",
        "from tensorflow.keras.models import Sequential\n",
        "from tensorflow.keras.layers import Embedding, Conv1D, GlobalMaxPooling1D, Dense\n",
        "from sklearn.model_selection import train_test_split\n",
        "from sklearn.metrics import accuracy_score\n",
        "\n",
        "X = df['joined']\n",
        "y = df['new_label']\n",
        "\n",
        "X_train, X_test, y_train, y_test = train_test_split(X, y, test_size=0.2, random_state=42)\n",
        "\n",
        "tokenizer = Tokenizer()\n",
        "tokenizer.fit_on_texts(X_train)\n",
        "X_train_tokens = tokenizer.texts_to_sequences(X_train)\n",
        "X_test_tokens = tokenizer.texts_to_sequences(X_test)\n",
        "\n",
        "\n",
        "max_sequence_length = max([len(tokens) for tokens in X_train_tokens])\n",
        "X_train_padded = pad_sequences(X_train_tokens, maxlen=max_sequence_length, padding='post')\n",
        "X_test_padded = pad_sequences(X_test_tokens, maxlen=max_sequence_length, padding='post')\n",
        "\n",
        "X_train_padded = tf.convert_to_tensor(X_train_padded, dtype=tf.int32)\n",
        "X_test_padded = tf.convert_to_tensor(X_test_padded, dtype=tf.int32)\n",
        "y_train = tf.convert_to_tensor(y_train, dtype=tf.int32)\n",
        "y_test = tf.convert_to_tensor(y_test, dtype=tf.int32)\n",
        "\n",
        "model = Sequential()\n",
        "model.add(Embedding(len(tokenizer.word_index) + 1, 100, input_length=max_sequence_length))\n",
        "model.add(Conv1D(128, 5, activation='relu'))\n",
        "model.add(GlobalMaxPooling1D())\n",
        "model.add(Dense(1, activation='sigmoid'))\n",
        "\n",
        "model.compile(loss='binary_crossentropy', optimizer='adam', metrics=['accuracy'])\n",
        "\n",
        "model.fit(X_train_padded, y_train, validation_data=(X_test_padded, y_test), epochs=10, batch_size=32)\n",
        "\n",
        "y_pred_prob = model.predict(X_test_padded)\n",
        "y_pred = np.round(y_pred_prob).astype(int)\n",
        "\n",
        "accuracy = accuracy_score(y_test, y_pred)\n",
        "print(\"CNN Accuracy:\", accuracy)"
      ]
    },
    {
      "cell_type": "code",
      "execution_count": null,
      "metadata": {
        "id": "BDfKN_Kqg1sb"
      },
      "outputs": [],
      "source": [
        "#save cnn model\n",
        "model.save('/content/drive/MyDrive/cnn_model.h5')"
      ]
    },
    {
      "cell_type": "code",
      "execution_count": null,
      "metadata": {
        "colab": {
          "base_uri": "https://localhost:8080/"
        },
        "id": "eX2RKwrbj6Gl",
        "outputId": "db840c4c-b4b1-4174-c6fb-d968cf1621e4"
      },
      "outputs": [
        {
          "name": "stdout",
          "output_type": "stream",
          "text": [
            "1/1 [==============================] - 0s 126ms/step\n",
            "Predicted Label: bad\n"
          ]
        }
      ],
      "source": [
        "import tensorflow as tf\n",
        "from tensorflow.keras.models import load_model\n",
        "from tensorflow.keras.preprocessing.sequence import pad_sequences\n",
        "\n",
        "# Load the saved model\n",
        "model = load_model('/content/drive/MyDrive/cnn_model.h5')\n",
        "\n",
        "tokenizer = Tokenizer()\n",
        "max_sequence_length = max([len(tokens) for tokens in X_train_tokens])\n",
        "\n",
        "def preprocess_tweet(tweet):\n",
        "    tokens = tokenizer.texts_to_sequences([tweet])\n",
        "    padded_sequence = pad_sequences(tokens, maxlen=max_sequence_length)\n",
        "    return padded_sequence\n",
        "\n",
        "# New tweet to predict\n",
        "new_tweet = \"i love it\"\n",
        "\n",
        "preprocessed_tweet = preprocess_tweet(new_tweet)\n",
        "\n",
        "predictions = model.predict(preprocessed_tweet)\n",
        "predicted_label = tf.argmax(predictions, axis=1).numpy()[0]\n",
        "\n",
        "if predicted_label == 0:\n",
        "  predicted_label = 'bad'\n",
        "elif predicted_label == 1:\n",
        "  predicted_label = 'neutral'\n",
        "elif predicted_label == 2:\n",
        "  predicted_label = 'good'\n",
        "\n",
        "print(\"Predicted Label:\", predicted_label)"
      ]
    }
  ],
  "metadata": {
    "colab": {
      "provenance": []
    },
    "gpuClass": "standard",
    "kernelspec": {
      "display_name": "Python 3",
      "name": "python3"
    },
    "language_info": {
      "name": "python"
    }
  },
  "nbformat": 4,
  "nbformat_minor": 0
}